{
 "cells": [
  {
   "cell_type": "code",
   "execution_count": 1,
   "metadata": {
    "slideshow": {
     "slide_type": "skip"
    }
   },
   "outputs": [
    {
     "name": "stdout",
     "output_type": "stream",
     "text": [
      "Using matplotlib backend: nbAgg\n",
      "Populating the interactive namespace from numpy and matplotlib\n"
     ]
    }
   ],
   "source": [
    "%matplotlib notebook\n",
    "%pylab"
   ]
  },
  {
   "cell_type": "markdown",
   "metadata": {
    "slideshow": {
     "slide_type": "slide"
    }
   },
   "source": [
    "# Potential Theory (Part III)\n",
    "<hr style=\"border-width:4px; border-color:coral\"></hr>\n",
    "\n",
    "Our focus has been on the boundary value problem in a domain $\\Omega$\n",
    "\n",
    "\\begin{equation}\n",
    "\\nabla^2 u = 0, \\mathbf x \\in \\Gamma\n",
    "\\end{equation}\n",
    "\n",
    "subject to either Neumann or Dirichlet boundary conditons and\n",
    "where $\\Gamma$ is the boundary of $\\Omega$. \n",
    "\n",
    "From Green's Second Identity, we derived an expression for $u(\\mathbf x)$ as a distribution of sources and dipoles\n",
    "\n",
    "\\begin{equation}\n",
    "u(\\mathbf x) = \\int_{\\Gamma} u(\\mathbf y) \\frac{\\partial G(\\mathbf x, \\mathbf y)}{\\partial n} d\\mathbf y + \\int_{\\Gamma} \\frac{\\partial u(\\mathbf y)}{\\partial n} G(\\mathbf x, \\mathbf y) d\\mathbf y\n",
    "\\end{equation}"
   ]
  },
  {
   "cell_type": "markdown",
   "metadata": {
    "slideshow": {
     "slide_type": "slide"
    }
   },
   "source": [
    "## Some properties of the potential u\n",
    "<hr style=\"border-width:4px; border-color:coral\"></hr>\n",
    "\n",
    "The properties of the solution $u(\\mathbf x)$ as stated above. \n",
    "\n",
    "* If $u(\\mathbf x) = 0$ on $\\Gamma$.   Then we have that $u$ can be written as a **distribution of sources** only : \n",
    "\n",
    "\\begin{equation}\n",
    "u(\\mathbf x) = \\int_{\\partial \\Omega} \\frac{\\partial u(\\mathbf y)}{\\partial n} G(\\mathbf x, \\mathbf y) d\\mathbf y\n",
    "\\end{equation}\n",
    "\n",
    "This is the \"single layer potential\" and the solution is *continuous* at $\\partial \\Omega$, but   the  normal derivative will exhibit a jump equal to the the strength of the source.   The solution is \"ridge-like\" along $\\Gamma$.   The distribution of sources acts to \"poke\" the solution impose the correct Dirichlet boundary condition. \n",
    "\n",
    "* If  $\\partial u/\\partial n = 0$ along $\\Gamma$, then the solution can be written as a **distribution of dipoles**\n",
    "\n",
    "\\begin{equation}\n",
    "u(\\mathbf x) = \\int_{\\partial \\Omega} u(\\mathbf y) \\frac{\\partial G(\\mathbf x, \\mathbf y)}{\\partial n} d\\mathbf y \n",
    "\\end{equation}\n",
    "\n",
    "and is a \"double layer potential\".  The solution exhibits a \"tear\" along $\\Gamma$.  The dipole acts to \"rip\" the solution along $\\Gamma$ in order to impose the correct Neumann boundary condition.  In this case, the normal derivative is continuous at $\\Gamma$, but the solution is not. \n",
    "\n",
    "* **Mean value theorem.**  Suppose we consider Green's Second Identity again, but this time on a spherical domain $\\Gamma_1$ of radius $R$ contained completely within a region in which $\\nabla^2 u = 0$.   Let $G(\\mathbf x, \\mathbf y)$ be the free-space Green's function in 3d, i.e. \n",
    "\n",
    "\\begin{equation}\n",
    "G(\\mathbf x, \\mathbf y) = -\\frac{1}{4 \\pi |\\mathbf x - \\mathbf y|} =  -\\frac{1}{4 \\pi r }\n",
    "\\end{equation}\n",
    "  \n",
    "  Then, we have\n",
    "\n",
    "\\begin{eqnarray}\n",
    "  u(\\mathbf x) & = & \\int_{\\Gamma_1} u(\\mathbf y) \\frac{\\partial G(\\mathbf x, \\mathbf y)}{\\partial n} d\\mathbf y - \\int_{\\Gamma_1} \\frac{\\partial u(\\mathbf y)}{\\partial n} G(\\mathbf x, \\mathbf y) d\\mathbf y \\\\\n",
    "    & = &  \\int_{\\Gamma_1} u(\\mathbf y) \\frac{\\partial}{\\partial \\rho} \\left( -\\frac{1}{4 \\pi \\rho }\\right) \\mathbf d\\rho \\\\\n",
    "    & = & \\frac{1}{4 \\pi R^2} \\int_{\\Gamma_1} u(\\mathbf y) d \\mathbf y \n",
    "\\end{eqnarray}\n",
    "\n",
    "The value of a harmonic function $u$ at $\\mathbf x$ is the *average* of the values it takes on any sphere        surrounding the point $\\mathbf x$. \n",
    "\n",
    "**Homework.**  Work through the details of the above!  Hint: Use Gauss's Theorem. \n",
    "\n",
    "\n",
    "* **Maximum Principle.**  From the above, it follows directly that the maximum or minimum values of the harmonic function on $\\Gamma$ must occur on the boundary $\\Gamma$.  \n",
    "  \n"
   ]
  },
  {
   "cell_type": "markdown",
   "metadata": {
    "slideshow": {
     "slide_type": "slide"
    }
   },
   "source": [
    "# Integral equations\n",
    "<hr style=\"border-width:4px; border-color:coral\"></hr>\n",
    "\n",
    "The expression for $u(\\mathbf x)$ in terms of a distribution of sources and dipoles motivated the idea that we could write $u(\\mathbf x)$ as a distribution of either sources or dipoles of *unknown* strength\n",
    "\n",
    "\\begin{equation}\n",
    "u(\\mathbf x) = \\int_{\\Gamma} \\mu(\\mathbf y) \\frac{\\partial G(\\mathbf x, \\mathbf y)}{\\partial n} d\\mathbf y\n",
    "\\end{equation}\n",
    "\n",
    "Imposing boundary conditions $u=g$ on $\\Gamma$ leads to \n",
    "\n",
    "\\begin{equation}\n",
    "g(\\mathbf x) = \\frac{\\mu(\\mathbf x)}{2} + \\int_{\\Gamma\\setminus \\mathbf x} \\mu(\\mathbf y) \\frac{\\partial G(\\mathbf x, \\mathbf y)}{\\partial n} d\\mathbf y\n",
    "\\end{equation}\n",
    "\n",
    "This expression is the basis for an alternative approach to solving Poisson's problem numerically.  \n",
    "\n",
    "We could have also chosen a distribution of dipoles, or any combination of sources and dipoles.  But the expression above leads to more practical solutions. \n",
    "\n",
    "**Project idea** Explore the Fast Multipole Method for solving the integral equation above. \n",
    "\n"
   ]
  },
  {
   "cell_type": "code",
   "execution_count": null,
   "metadata": {},
   "outputs": [],
   "source": []
  }
 ],
 "metadata": {
  "celltoolbar": "Slideshow",
  "kernelspec": {
   "display_name": "Python 3",
   "language": "python",
   "name": "python3"
  },
  "language_info": {
   "codemirror_mode": {
    "name": "ipython",
    "version": 3
   },
   "file_extension": ".py",
   "mimetype": "text/x-python",
   "name": "python",
   "nbconvert_exporter": "python",
   "pygments_lexer": "ipython3",
   "version": "3.7.4"
  }
 },
 "nbformat": 4,
 "nbformat_minor": 2
}
