{
 "cells": [
  {
   "cell_type": "code",
   "execution_count": 14,
   "metadata": {},
   "outputs": [
    {
     "name": "stdout",
     "output_type": "stream",
     "text": [
      "Warning: Cannot change to a different GUI toolkit: notebook. Using osx instead.\n",
      "Using matplotlib backend: MacOSX\n",
      "Populating the interactive namespace from numpy and matplotlib\n"
     ]
    }
   ],
   "source": [
    "%matplotlib notebook\n",
    "%pylab"
   ]
  },
  {
   "cell_type": "code",
   "execution_count": 24,
   "metadata": {},
   "outputs": [
    {
     "name": "stdout",
     "output_type": "stream",
     "text": [
      "beta_o of the system = -0.8494384576847064\n"
     ]
    }
   ],
   "source": [
    "xo = 0.33\n",
    "to = 0.5\n",
    "do = 0.68\n",
    "ep = 1e-3\n",
    "c  = 0.5\n",
    "\n",
    "ro = (1/sqrt(2*pi))*to\n",
    "\n",
    "#beta_o of the system\n",
    "bo = do/(ro-1)\n",
    "print(\"beta_o of the system =\",bo)\n",
    "\n",
    "#delta functin\n",
    "def delta(x,xo,ep,t,to):\n",
    "    A = 1/sqrt(2*pi*ep)\n",
    "    B = ((x-xo-(c*(t-to)))**2)/(4*ep)\n",
    "    return A*exp(-B)\n",
    "\n",
    "#Heaviside function\n",
    "def H(t,t0):\n",
    "    if t>=to:\n",
    "        return 1\n",
    "    else:\n",
    "        return 0\n",
    "\n",
    "def ucap(x,xo,t,to,do,ep):\n",
    "    A = (do*sqrt(2*pi*ep))/(to + sqrt(2*pi*ep))\n",
    "    B = t +(t-to)*H(t,to)\n",
    "    return A*delta(x,xo,ep,t,to)*B\n",
    "        \n",
    "x = arange(0, 1, 0.01)\n",
    "c = 0.5\n",
    "\n",
    "time = arange(0,0.501, 0.01)\n",
    "                        \n",
    "                                  \n"
   ]
  },
  {
   "cell_type": "code",
   "execution_count": 25,
   "metadata": {},
   "outputs": [
    {
     "data": {
      "text/plain": [
       "array([0.  , 0.01, 0.02, 0.03, 0.04, 0.05, 0.06, 0.07, 0.08, 0.09, 0.1 ,\n",
       "       0.11, 0.12, 0.13, 0.14, 0.15, 0.16, 0.17, 0.18, 0.19, 0.2 , 0.21,\n",
       "       0.22, 0.23, 0.24, 0.25, 0.26, 0.27, 0.28, 0.29, 0.3 , 0.31, 0.32,\n",
       "       0.33, 0.34, 0.35, 0.36, 0.37, 0.38, 0.39, 0.4 , 0.41, 0.42, 0.43,\n",
       "       0.44, 0.45, 0.46, 0.47, 0.48, 0.49, 0.5 ])"
      ]
     },
     "execution_count": 25,
     "metadata": {},
     "output_type": "execute_result"
    }
   ],
   "source": [
    "arange(0,0.501, 0.01)"
   ]
  },
  {
   "cell_type": "code",
   "execution_count": null,
   "metadata": {},
   "outputs": [],
   "source": []
  }
 ],
 "metadata": {
  "kernelspec": {
   "display_name": "Python 3",
   "language": "python",
   "name": "python3"
  },
  "language_info": {
   "codemirror_mode": {
    "name": "ipython",
    "version": 3
   },
   "file_extension": ".py",
   "mimetype": "text/x-python",
   "name": "python",
   "nbconvert_exporter": "python",
   "pygments_lexer": "ipython3",
   "version": "3.8.5"
  }
 },
 "nbformat": 4,
 "nbformat_minor": 4
}
