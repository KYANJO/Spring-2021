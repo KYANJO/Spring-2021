{
 "cells": [
  {
   "cell_type": "code",
   "execution_count": 1,
   "metadata": {},
   "outputs": [
    {
     "ename": "SyntaxError",
     "evalue": "Missing parentheses in call to 'print'. Did you mean print(\"Reading data from file:\", filename)? (<ipython-input-1-32ba298b12ad>, line 8)",
     "output_type": "error",
     "traceback": [
      "\u001b[0;36m  File \u001b[0;32m\"<ipython-input-1-32ba298b12ad>\"\u001b[0;36m, line \u001b[0;32m8\u001b[0m\n\u001b[0;31m    print \"Reading data from file:\", filename\u001b[0m\n\u001b[0m          ^\u001b[0m\n\u001b[0;31mSyntaxError\u001b[0m\u001b[0;31m:\u001b[0m Missing parentheses in call to 'print'. Did you mean print(\"Reading data from file:\", filename)?\n"
     ]
    }
   ],
   "source": [
    "import matplotlib.pyplot as plt\n",
    "import numpy as np\n",
    "import sys\n",
    "\n",
    "for filenum in range(len(sys.argv)-1):\n",
    "\n",
    "    filename = str(sys.argv[filenum+1])\n",
    "    print \"Reading data from file:\", filename\n",
    "    n, err, time = np.loadtxt(filename, delimiter='\\t', unpack=True,skiprows=0)\n",
    "    plt.loglog(n,time,'-',linewidth=2,label=filename);\n",
    "\n",
    "plt.xlabel('# of points')\n",
    "plt.ylabel('time (s)')\n",
    "plt.title('Timing')\n",
    "plt.legend()\n",
    "plt.grid(True)\n",
    "plt.savefig(\"timing_mpi.png\");\n",
    "plt.show()\n"
   ]
  },
  {
   "cell_type": "code",
   "execution_count": null,
   "metadata": {},
   "outputs": [],
   "source": []
  }
 ],
 "metadata": {
  "kernelspec": {
   "display_name": "Python 3",
   "language": "python",
   "name": "python3"
  },
  "language_info": {
   "codemirror_mode": {
    "name": "ipython",
    "version": 3
   },
   "file_extension": ".py",
   "mimetype": "text/x-python",
   "name": "python",
   "nbconvert_exporter": "python",
   "pygments_lexer": "ipython3",
   "version": "3.8.5"
  }
 },
 "nbformat": 4,
 "nbformat_minor": 4
}
