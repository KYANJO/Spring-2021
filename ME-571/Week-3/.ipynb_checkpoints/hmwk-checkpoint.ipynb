{
 "cells": [
  {
   "cell_type": "markdown",
   "metadata": {},
   "source": [
    "# No.2"
   ]
  },
  {
   "cell_type": "code",
   "execution_count": null,
   "metadata": {},
   "outputs": [],
   "source": [
    "#number of processors\n",
    "np = array([1,2,4,8])\n",
    "\n",
    "#for np = 1\n",
    "#time taken to complete intialisation #irank = 0\n",
    "tinit = array([8.250000e+00])\n",
    "#time taken to complete computation #irank = 0\n",
    "tcomp = array([1.900000e+00])\n",
    "\n",
    "#for np = 2\n",
    "#time taken to complete intialisation #irank = 0\n",
    "tinit = array([3.570000e+00]); tcomp = array([8.800000e-01])\n",
    "#time taken to complete computation #irank = 1\n",
    "tinit = array([4.710000e+00]); tcomp = array([8.700000e-01])\n",
    "\n",
    "#for n=4\n",
    "#time taken to complete intialisation #irank = 0\n",
    "tinit = array([1.240000e+00]); tcomp = array([2.500000e-01])\n",
    "#time taken to complete computation #irank = 1\n",
    "tinit = array([1.640000e+00]); tcomp = array([2.600000e-01])\n",
    "#time taken to complete intialisation #irank = 2\n",
    "tinit = array([1.920000e+00]); tcomp = array([2.800000e-01]\n",
    "#time taken to complete intialisation #irank = 3\n",
    "tinit = array([1.910000e+00]); tcomp = array([2.700000e-01]  \n",
    "\n",
    "#for n=8\n",
    "#time taken to complete intialisation #irank = 0\n",
    "tinit = array([8.250000e+00]); tcomp = array([1.900000e+00])\n",
    "#time taken to complete computation #irank = 1\n",
    "tinit = array([8.250000e+00]); tcomp = array([1.900000e+00])\n",
    "#time taken to complete intialisation #irank = 2\n",
    "tinit = array([8.250000e+00]); tcomp = array([1.900000e+00]\n",
    "#time taken to complete intialisation #irank = 3\n",
    "tinit = array([8.250000e+00]); tcomp = array([1.900000e+00]  \n",
    "#time taken to complete intialisation #irank = 0\n",
    "tinit = array([8.250000e+00]); tcomp = array([1.900000e+00])\n",
    "#time taken to complete computation #irank = 1\n",
    "tinit = array([8.250000e+00]); tcomp = array([1.900000e+00])\n",
    "#time taken to complete intialisation #irank = 2\n",
    "tinit = array([8.250000e+00]); tcomp = array([1.900000e+00]\n",
    "#time taken to complete intialisation #irank = 3\n",
    "tinit = array([8.250000e+00]); tcomp = array([1.900000e+00]  \n"
   ]
  }
 ],
 "metadata": {
  "kernelspec": {
   "display_name": "Python 3",
   "language": "python",
   "name": "python3"
  },
  "language_info": {
   "codemirror_mode": {
    "name": "ipython",
    "version": 3
   },
   "file_extension": ".py",
   "mimetype": "text/x-python",
   "name": "python",
   "nbconvert_exporter": "python",
   "pygments_lexer": "ipython3",
   "version": "3.8.5"
  }
 },
 "nbformat": 4,
 "nbformat_minor": 4
}
